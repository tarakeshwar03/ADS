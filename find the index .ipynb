{
 "cells": [
  {
   "cell_type": "code",
   "execution_count": 13,
   "id": "a5a794c6-bbc6-4334-9d78-335036a674da",
   "metadata": {},
   "outputs": [
    {
     "name": "stdin",
     "output_type": "stream",
     "text": [
      "Enter the element to search for:  20\n"
     ]
    },
    {
     "name": "stdout",
     "output_type": "stream",
     "text": [
      "1\n"
     ]
    }
   ],
   "source": [
    "import numpy as np\n",
    "\n",
    "x = np.array([10, 20, 30, 40, 50])\n",
    "\n",
    "def index(x, selse):\n",
    "    try:\n",
    "        n = len(x)\n",
    "        for i in range(n):\n",
    "            if x[i] == selse:\n",
    "                return i\n",
    "        raise ValueError(\"Element not found\")\n",
    "    except ValueError as ve:\n",
    "        print(ve)\n",
    "        return -1\n",
    "\n",
    "s_ele = int(input(\"Enter the element to search for: \"))\n",
    "result = index(x, s_ele)\n",
    "print(result)"
   ]
  },
  {
   "cell_type": "code",
   "execution_count": null,
   "id": "e609b707-3e4c-4155-810c-aebbfdf99b29",
   "metadata": {},
   "outputs": [],
   "source": []
  }
 ],
 "metadata": {
  "kernelspec": {
   "display_name": "Python 3 (ipykernel)",
   "language": "python",
   "name": "python3"
  },
  "language_info": {
   "codemirror_mode": {
    "name": "ipython",
    "version": 3
   },
   "file_extension": ".py",
   "mimetype": "text/x-python",
   "name": "python",
   "nbconvert_exporter": "python",
   "pygments_lexer": "ipython3",
   "version": "3.12.4"
  }
 },
 "nbformat": 4,
 "nbformat_minor": 5
}
