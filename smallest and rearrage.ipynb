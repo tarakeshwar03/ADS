{
 "cells": [
  {
   "cell_type": "code",
   "execution_count": 1,
   "id": "bfceff47-91dd-4b60-8a9c-13d1fc10bb97",
   "metadata": {},
   "outputs": [
    {
     "name": "stdout",
     "output_type": "stream",
     "text": [
      "1\n"
     ]
    }
   ],
   "source": [
    "import numpy as np\n",
    "arr=np.array([1,2,3,4,5])\n",
    "\n",
    "def array(arr):\n",
    "    min_val=np.min(arr)\n",
    "    return min_val\n",
    "\n",
    "result=array(arr)\n",
    "print(result)"
   ]
  },
  {
   "cell_type": "code",
   "execution_count": 2,
   "id": "7ce77594-4fb4-4071-bcbd-31ee5095820f",
   "metadata": {},
   "outputs": [
    {
     "name": "stdout",
     "output_type": "stream",
     "text": [
      "[2 8 6 4 3 7]\n"
     ]
    }
   ],
   "source": [
    "import numpy as np\n",
    "arr=np.array([7,3,4,6,8,2])\n",
    "\n",
    "def array(arr):\n",
    "    print(arr[::-1])\n",
    "\n",
    "array(arr)"
   ]
  },
  {
   "cell_type": "code",
   "execution_count": null,
   "id": "5cda6c2b-4077-403b-8a51-45e7facfafc6",
   "metadata": {},
   "outputs": [],
   "source": []
  }
 ],
 "metadata": {
  "kernelspec": {
   "display_name": "Python 3 (ipykernel)",
   "language": "python",
   "name": "python3"
  },
  "language_info": {
   "codemirror_mode": {
    "name": "ipython",
    "version": 3
   },
   "file_extension": ".py",
   "mimetype": "text/x-python",
   "name": "python",
   "nbconvert_exporter": "python",
   "pygments_lexer": "ipython3",
   "version": "3.12.7"
  }
 },
 "nbformat": 4,
 "nbformat_minor": 5
}
